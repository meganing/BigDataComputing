{
 "cells": [
  {
   "cell_type": "markdown",
   "id": "54701ae4",
   "metadata": {},
   "source": [
    "# Patient Management System"
   ]
  },
  {
   "cell_type": "code",
   "execution_count": 1,
   "id": "e3cd8f6a",
   "metadata": {},
   "outputs": [],
   "source": [
    "from pymongo import MongoClient\n",
    "from datetime import datetime"
   ]
  },
  {
   "cell_type": "code",
   "execution_count": 2,
   "id": "4146a8de",
   "metadata": {},
   "outputs": [],
   "source": [
    "client = MongoClient(\"mongodb://localhost:27017/\")\n",
    "db = client[\"patient_db\"]\n",
    "patients_collection = db[\"patients\"] "
   ]
  },
  {
   "cell_type": "code",
   "execution_count": 3,
   "id": "7da40223-3e9a-4a64-a5b8-1d3f5491d13c",
   "metadata": {},
   "outputs": [],
   "source": [
    "# function to check if the id input is an integer and return the valid patient_id.\n",
    "\n",
    "def get_valid_patient_id():\n",
    "    while True:\n",
    "        patient_id = input(\"Enter patient ID: \")\n",
    "        if patient_id.isdigit():\n",
    "            return patient_id\n",
    "        print(\"Invalid ID format. Please enter a valid integer ID.\")"
   ]
  },
  {
   "cell_type": "code",
   "execution_count": 4,
   "id": "1f7126d4-0034-4d39-96b6-caf12718d5b5",
   "metadata": {},
   "outputs": [],
   "source": [
    "# function to check if the integer id input is unique and return the unique patient_id. \n",
    "\n",
    "def get_unique_id():\n",
    "    while True:\n",
    "        patient_id = get_valid_patient_id()\n",
    "        if patients_collection.find_one({\"id\": patient_id}):\n",
    "            print(f\"Error: Patient ID {patient_id} already exists. Please enter a unique ID.\")\n",
    "            continue\n",
    "        return patient_id"
   ]
  },
  {
   "cell_type": "code",
   "execution_count": 5,
   "id": "d5248d28-995f-4a20-b9d0-5e0ae389f80d",
   "metadata": {},
   "outputs": [],
   "source": [
    "# function to check if the year input is integer and return the valid year input. \n",
    "\n",
    "def get_valid_year():\n",
    "    while True:\n",
    "        year = input(\"Enter year: \").strip()\n",
    "        if year.isdigit():\n",
    "            return int(year) \n",
    "        print(\"Invalid year format. Please enter a valid integer year.\")"
   ]
  },
  {
   "cell_type": "code",
   "execution_count": 6,
   "id": "6b068068",
   "metadata": {},
   "outputs": [],
   "source": [
    "# function to add the information of a patient \n",
    "# Aruguments : patient_id, first_name, last_name, date_of_birth ( 4 entries of information of the patient)\n",
    "# It checks the validity of the data input, return success message. \n",
    "# Return error message if it fails.\n",
    "\n",
    "def add_patient(patient_id, first_name, last_name, date_of_birth):\n",
    "    while True: # checking validity of the birth date \n",
    "        try:\n",
    "            birth_date = datetime.strptime(date_of_birth, \"%Y-%m-%d\")\n",
    "            birth_date_str = birth_date.strftime(\"%Y-%m-%d\") \n",
    "            break \n",
    "        except ValueError:\n",
    "            print(\"Invalid date format. Please enter in YYYY-MM-DD format.\")\n",
    "            date_of_birth = input(\"Re-enter birth date: \")  \n",
    "            \n",
    "    patient = {\n",
    "        \"id\": patient_id,\n",
    "        \"first_name\": first_name,\n",
    "        \"last_name\": last_name,\n",
    "        \"birth_date\": birth_date_str\n",
    "    }\n",
    "    \n",
    "    try:\n",
    "        result = patients_collection.insert_one(patient)\n",
    "        print(f\"Patient added successfully with ID: {patient_id}\")\n",
    "    except Exception as e:\n",
    "        print(f\"Database error: {e}\")\n",
    "        return None"
   ]
  },
  {
   "cell_type": "code",
   "execution_count": 7,
   "id": "1c520dd1",
   "metadata": {},
   "outputs": [],
   "source": [
    "# function to list all the information of patients in the collection.\n",
    "# If there is no data found, print not found message.\n",
    "\n",
    "def list_patients(query={}):\n",
    "\n",
    "    for patient in patients_collection.find(query):\n",
    "        print(f\"ID: {patient['id']}\")\n",
    "        print(f\"Fist Name: {patient['first_name']}\")\n",
    "        print(f\"Last Name: {patient['last_name']}\")\n",
    "        print(f\"Date of Birth: {patient['birth_date']}\")\n",
    "        print(\"-\" * 20)\n",
    "    if patients_collection.count_documents(query) == 0:\n",
    "        print(\"No patients found\")"
   ]
  },
  {
   "cell_type": "code",
   "execution_count": 8,
   "id": "c7204f56",
   "metadata": {},
   "outputs": [],
   "source": [
    "# function to add the information of a patient  \n",
    "# Aruguments : patient_id of the patient\n",
    "# If the id is found, return the information of the patient. If not, return not found message. \n",
    "\n",
    "def find_patient_by_id(patient_id):     \n",
    "    result = patients_collection.find_one({\"id\": patient_id})\n",
    "    if result is None:\n",
    "        print(\"No patients found\")\n",
    "    else:\n",
    "        print(f\"ID: {result['id']}\")\n",
    "        print(f\"Fist Name: {result['first_name']}\")\n",
    "        print(f\"Last Name: {result['last_name']}\")\n",
    "        print(f\"Date of Birth: {result['birth_date']}\")\n",
    "        print(\"-\" * 20)"
   ]
  },
  {
   "cell_type": "code",
   "execution_count": 9,
   "id": "0c1724d5",
   "metadata": {},
   "outputs": [],
   "source": [
    "# function to update the last name of a patient \n",
    "# Aruguments : patient ID and new last name of the patient\n",
    "# If the id is found, update the last name of the patient. If not, return not found message.\n",
    "# Return message to inform success or failure of the action at the end.\n",
    "\n",
    "def update_patient_last_name(patient_id, new_last_name):\n",
    "    result = patients_collection.find_one({\"id\": patient_id})\n",
    "    if result is None:\n",
    "        print(\"No patients found\")\n",
    "    else:\n",
    "        update_result = patients_collection.update_one(\n",
    "            {\"id\": patient_id}, \n",
    "            {\"$set\": {\"last_name\": new_last_name}} \n",
    "        )\n",
    "    if update_result.modified_count > 0:\n",
    "            print(f\"Patient ID {patient_id}'s last name updated to {new_last_name}.\")\n",
    "    else:\n",
    "            print(f\"Update failed or last name was already '{new_last_name}'.\") "
   ]
  },
  {
   "cell_type": "code",
   "execution_count": 10,
   "id": "8efc227a",
   "metadata": {},
   "outputs": [],
   "source": [
    "# function to update find patients born after a certain year.\n",
    "# Aruguments : year \n",
    "# If there are patients born after the given year, return the list of patients. \n",
    "# If not, return not found message.\n",
    "\n",
    "def find_patients_born_after_year(year):\n",
    "    patients = patients_collection.find({\"birth_date\": {\"$gt\": f\"{year}-01-01\"}})\n",
    "    found = False  \n",
    "    for patient in patients:\n",
    "        found = True\n",
    "        print(f\"ID: {patient['id']}\")\n",
    "        print(f\"First Name: {patient['first_name']}\")\n",
    "        print(f\"Last Name: {patient['last_name']}\")\n",
    "        print(f\"Date of Birth: {patient['birth_date']}\")\n",
    "        print(\"-\" * 20)\n",
    "    if not found:\n",
    "        print(\"No patients found born after\", year)"
   ]
  },
  {
   "cell_type": "code",
   "execution_count": 11,
   "id": "b809296e",
   "metadata": {},
   "outputs": [],
   "source": [
    "# function to add the contact information of a patient.\n",
    "# Aruguments : patient_id, email, phone \n",
    "# If the id is found, update the information of the patient, return success message.\n",
    "# If not, return not found message. \n",
    "\n",
    "def add_patient_contact(patient_id, email, phone):\n",
    "    result = patients_collection.find_one({\"id\": patient_id})\n",
    "    if result is None:\n",
    "        print(\"No patients found\")\n",
    "    else:\n",
    "        update_result = patients_collection.update_one(\n",
    "            {\"id\": patient_id}, \n",
    "            {\"$set\": {\"email\": email, \"phone\": phone}} \n",
    "        )\n",
    "    if update_result.modified_count > 0:\n",
    "        print(f\"Patient ID {patient_id} contact information updated.\")\n",
    "    else:\n",
    "        print(f\"No changes made. Email and phone may already be the same.\")"
   ]
  },
  {
   "cell_type": "code",
   "execution_count": 14,
   "id": "a18efc81",
   "metadata": {},
   "outputs": [],
   "source": [
    "# function to delete information of a patient.\n",
    "# Aruguments : patient_id\n",
    "# If the id is found, delete the information of the patient, return success message.\n",
    "# If not, return not found message. \n",
    "\n",
    "def delete_patient_by_id(patient_id):\n",
    "    delete_result = patients_collection.delete_one({\"id\": patient_id})\n",
    "    if delete_result.deleted_count > 0:\n",
    "        print(f\"Patient ID {patient_id} deleted successfully.\")\n",
    "    else:\n",
    "        print(f\"No patient found with ID: {patient_id}\")"
   ]
  },
  {
   "cell_type": "code",
   "execution_count": null,
   "id": "4d128163-9ef0-4958-876a-0536552da4b5",
   "metadata": {},
   "outputs": [
    {
     "name": "stdout",
     "output_type": "stream",
     "text": [
      "\n",
      "Options:\n",
      "1. Add a patient\n",
      "2. List all patients\n",
      "3. Find a patient by ID\n",
      "4. Update patient's last name\n",
      "5. Find patients born after a given year\n",
      "6. Add patient contact info\n",
      "7. Delete a patient\n",
      "8. Exit\n"
     ]
    }
   ],
   "source": [
    "def main():\n",
    "    while True: #print out the action menu until exit action is taken.\n",
    "        print(\"\\nOptions:\")\n",
    "        print(\"1. Add a patient\")\n",
    "        print(\"2. List all patients\")\n",
    "        print(\"3. Find a patient by ID\")\n",
    "        print(\"4. Update patient's last name\")\n",
    "        print(\"5. Find patients born after a given year\")\n",
    "        print(\"6. Add patient contact info\")\n",
    "        print(\"7. Delete a patient\")\n",
    "        print(\"8. Exit\")\n",
    "\n",
    "        choice = input(\"Enter your choice: \")\n",
    "        \n",
    "        if choice == \"1\": # prompt the information input of the patient and add a patient\n",
    "            patient_id = get_unique_id()\n",
    "            first_name = input(\"Enter first name of the patient: \")\n",
    "            last_name = input(\"Enter last name of the patient: \")\n",
    "            date_of_birth = input(\"Enter Birth date of the patient: \")\n",
    "            add_patient(patient_id, first_name, last_name, date_of_birth)\n",
    "        elif choice == \"2\": # list all patients \n",
    "            list_patients()\n",
    "        elif choice == \"3\": # find a patient by ID \n",
    "            patient_id = get_valid_patient_id()\n",
    "            find_patient_by_id(patient_id)\n",
    "        elif choice == \"4\": # update patient's last name\n",
    "            patient_id = get_valid_patient_id()\n",
    "            new_last_name = input(\"Enter patient's new last name to update : \")\n",
    "            update_patient_last_name(patient_id, new_last_name)\n",
    "        elif choice == \"5\": # find patients born after a given year \n",
    "            year = get_valid_year()\n",
    "            find_patients_born_after_year(year)\n",
    "        elif choice == \"6\": # add patient's contact info\n",
    "            patient_id = get_valid_patient_id()\n",
    "            email = input(\"Enter patient's email: \")\n",
    "            phone = input(\"Enter phone number: \")\n",
    "            add_patient_contact(patient_id, email, phone)\n",
    "        elif choice == \"7\": # delete a patient \n",
    "            patient_id = get_valid_patient_id()\n",
    "            delete_patient_by_id(patient_id)\n",
    "        elif choice == \"8\": # exit \n",
    "            break\n",
    "        else:\n",
    "            print(\"Invalid choice.\")\n",
    "\n",
    "\n",
    "\n",
    "if __name__ == \"__main__\":\n",
    "    main()"
   ]
  },
  {
   "cell_type": "code",
   "execution_count": null,
   "id": "74b5f74a-fab7-47ce-88b5-519e0de94da7",
   "metadata": {},
   "outputs": [],
   "source": []
  }
 ],
 "metadata": {
  "kernelspec": {
   "display_name": "Python 3 (ipykernel)",
   "language": "python",
   "name": "python3"
  },
  "language_info": {
   "codemirror_mode": {
    "name": "ipython",
    "version": 3
   },
   "file_extension": ".py",
   "mimetype": "text/x-python",
   "name": "python",
   "nbconvert_exporter": "python",
   "pygments_lexer": "ipython3",
   "version": "3.11.7"
  }
 },
 "nbformat": 4,
 "nbformat_minor": 5
}
